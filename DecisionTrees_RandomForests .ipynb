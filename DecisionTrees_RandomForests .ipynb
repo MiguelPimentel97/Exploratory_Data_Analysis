{
 "cells": [
  {
   "cell_type": "markdown",
   "id": "eeaf0e9f-4dd4-445f-982f-ed1c57d729ae",
   "metadata": {},
   "source": [
    "# Melbourne Home Price Prediction"
   ]
  },
  {
   "cell_type": "code",
   "execution_count": 36,
   "id": "5a3dbee8",
   "metadata": {},
   "outputs": [],
   "source": [
    "import pandas as pd"
   ]
  },
  {
   "cell_type": "code",
   "execution_count": 37,
   "id": "33b50bb6",
   "metadata": {},
   "outputs": [
    {
     "data": {
      "text/plain": [
       "Index(['Suburb', 'Address', 'Rooms', 'Type', 'Price', 'Method', 'SellerG',\n",
       "       'Date', 'Distance', 'Postcode', 'Bedroom2', 'Bathroom', 'Car',\n",
       "       'Landsize', 'BuildingArea', 'YearBuilt', 'CouncilArea', 'Lattitude',\n",
       "       'Longtitude', 'Regionname', 'Propertycount'],\n",
       "      dtype='object')"
      ]
     },
     "execution_count": 37,
     "metadata": {},
     "output_type": "execute_result"
    }
   ],
   "source": [
    "melbourne_file_path = 'Datasets/melb_data.csv'\n",
    "melbourne_data = pd.read_csv(melbourne_file_path) \n",
    "melbourne_data.columns"
   ]
  },
  {
   "cell_type": "code",
   "execution_count": 38,
   "id": "0f2920ef",
   "metadata": {},
   "outputs": [],
   "source": [
    "# Drop missing values\n",
    "melbourne_data = melbourne_data.dropna(axis=0)"
   ]
  },
  {
   "cell_type": "code",
   "execution_count": 39,
   "id": "c24770db",
   "metadata": {},
   "outputs": [],
   "source": [
    "# Prediction Target\n",
    "y = melbourne_data.Price"
   ]
  },
  {
   "cell_type": "code",
   "execution_count": 40,
   "id": "8d9c5250",
   "metadata": {},
   "outputs": [
    {
     "data": {
      "text/html": [
       "<div>\n",
       "<style scoped>\n",
       "    .dataframe tbody tr th:only-of-type {\n",
       "        vertical-align: middle;\n",
       "    }\n",
       "\n",
       "    .dataframe tbody tr th {\n",
       "        vertical-align: top;\n",
       "    }\n",
       "\n",
       "    .dataframe thead th {\n",
       "        text-align: right;\n",
       "    }\n",
       "</style>\n",
       "<table border=\"1\" class=\"dataframe\">\n",
       "  <thead>\n",
       "    <tr style=\"text-align: right;\">\n",
       "      <th></th>\n",
       "      <th>Rooms</th>\n",
       "      <th>Bathroom</th>\n",
       "      <th>Landsize</th>\n",
       "      <th>Lattitude</th>\n",
       "      <th>Longtitude</th>\n",
       "    </tr>\n",
       "  </thead>\n",
       "  <tbody>\n",
       "    <tr>\n",
       "      <th>count</th>\n",
       "      <td>6196.000000</td>\n",
       "      <td>6196.000000</td>\n",
       "      <td>6196.000000</td>\n",
       "      <td>6196.000000</td>\n",
       "      <td>6196.000000</td>\n",
       "    </tr>\n",
       "    <tr>\n",
       "      <th>mean</th>\n",
       "      <td>2.931407</td>\n",
       "      <td>1.576340</td>\n",
       "      <td>471.006940</td>\n",
       "      <td>-37.807904</td>\n",
       "      <td>144.990201</td>\n",
       "    </tr>\n",
       "    <tr>\n",
       "      <th>std</th>\n",
       "      <td>0.971079</td>\n",
       "      <td>0.711362</td>\n",
       "      <td>897.449881</td>\n",
       "      <td>0.075850</td>\n",
       "      <td>0.099165</td>\n",
       "    </tr>\n",
       "    <tr>\n",
       "      <th>min</th>\n",
       "      <td>1.000000</td>\n",
       "      <td>1.000000</td>\n",
       "      <td>0.000000</td>\n",
       "      <td>-38.164920</td>\n",
       "      <td>144.542370</td>\n",
       "    </tr>\n",
       "    <tr>\n",
       "      <th>25%</th>\n",
       "      <td>2.000000</td>\n",
       "      <td>1.000000</td>\n",
       "      <td>152.000000</td>\n",
       "      <td>-37.855438</td>\n",
       "      <td>144.926198</td>\n",
       "    </tr>\n",
       "    <tr>\n",
       "      <th>50%</th>\n",
       "      <td>3.000000</td>\n",
       "      <td>1.000000</td>\n",
       "      <td>373.000000</td>\n",
       "      <td>-37.802250</td>\n",
       "      <td>144.995800</td>\n",
       "    </tr>\n",
       "    <tr>\n",
       "      <th>75%</th>\n",
       "      <td>4.000000</td>\n",
       "      <td>2.000000</td>\n",
       "      <td>628.000000</td>\n",
       "      <td>-37.758200</td>\n",
       "      <td>145.052700</td>\n",
       "    </tr>\n",
       "    <tr>\n",
       "      <th>max</th>\n",
       "      <td>8.000000</td>\n",
       "      <td>8.000000</td>\n",
       "      <td>37000.000000</td>\n",
       "      <td>-37.457090</td>\n",
       "      <td>145.526350</td>\n",
       "    </tr>\n",
       "  </tbody>\n",
       "</table>\n",
       "</div>"
      ],
      "text/plain": [
       "             Rooms     Bathroom      Landsize    Lattitude   Longtitude\n",
       "count  6196.000000  6196.000000   6196.000000  6196.000000  6196.000000\n",
       "mean      2.931407     1.576340    471.006940   -37.807904   144.990201\n",
       "std       0.971079     0.711362    897.449881     0.075850     0.099165\n",
       "min       1.000000     1.000000      0.000000   -38.164920   144.542370\n",
       "25%       2.000000     1.000000    152.000000   -37.855438   144.926198\n",
       "50%       3.000000     1.000000    373.000000   -37.802250   144.995800\n",
       "75%       4.000000     2.000000    628.000000   -37.758200   145.052700\n",
       "max       8.000000     8.000000  37000.000000   -37.457090   145.526350"
      ]
     },
     "execution_count": 40,
     "metadata": {},
     "output_type": "execute_result"
    }
   ],
   "source": [
    "# Chosen features\n",
    "melbourne_features = ['Rooms', 'Bathroom', 'Landsize', 'Lattitude', 'Longtitude']\n",
    "X = melbourne_data[melbourne_features]\n",
    "X.describe()"
   ]
  },
  {
   "cell_type": "code",
   "execution_count": 41,
   "id": "e3925f52",
   "metadata": {},
   "outputs": [
    {
     "data": {
      "text/html": [
       "<div>\n",
       "<style scoped>\n",
       "    .dataframe tbody tr th:only-of-type {\n",
       "        vertical-align: middle;\n",
       "    }\n",
       "\n",
       "    .dataframe tbody tr th {\n",
       "        vertical-align: top;\n",
       "    }\n",
       "\n",
       "    .dataframe thead th {\n",
       "        text-align: right;\n",
       "    }\n",
       "</style>\n",
       "<table border=\"1\" class=\"dataframe\">\n",
       "  <thead>\n",
       "    <tr style=\"text-align: right;\">\n",
       "      <th></th>\n",
       "      <th>Rooms</th>\n",
       "      <th>Bathroom</th>\n",
       "      <th>Landsize</th>\n",
       "      <th>Lattitude</th>\n",
       "      <th>Longtitude</th>\n",
       "    </tr>\n",
       "  </thead>\n",
       "  <tbody>\n",
       "    <tr>\n",
       "      <th>1</th>\n",
       "      <td>2</td>\n",
       "      <td>1.0</td>\n",
       "      <td>156.0</td>\n",
       "      <td>-37.8079</td>\n",
       "      <td>144.9934</td>\n",
       "    </tr>\n",
       "    <tr>\n",
       "      <th>2</th>\n",
       "      <td>3</td>\n",
       "      <td>2.0</td>\n",
       "      <td>134.0</td>\n",
       "      <td>-37.8093</td>\n",
       "      <td>144.9944</td>\n",
       "    </tr>\n",
       "    <tr>\n",
       "      <th>4</th>\n",
       "      <td>4</td>\n",
       "      <td>1.0</td>\n",
       "      <td>120.0</td>\n",
       "      <td>-37.8072</td>\n",
       "      <td>144.9941</td>\n",
       "    </tr>\n",
       "    <tr>\n",
       "      <th>6</th>\n",
       "      <td>3</td>\n",
       "      <td>2.0</td>\n",
       "      <td>245.0</td>\n",
       "      <td>-37.8024</td>\n",
       "      <td>144.9993</td>\n",
       "    </tr>\n",
       "    <tr>\n",
       "      <th>7</th>\n",
       "      <td>2</td>\n",
       "      <td>1.0</td>\n",
       "      <td>256.0</td>\n",
       "      <td>-37.8060</td>\n",
       "      <td>144.9954</td>\n",
       "    </tr>\n",
       "  </tbody>\n",
       "</table>\n",
       "</div>"
      ],
      "text/plain": [
       "   Rooms  Bathroom  Landsize  Lattitude  Longtitude\n",
       "1      2       1.0     156.0   -37.8079    144.9934\n",
       "2      3       2.0     134.0   -37.8093    144.9944\n",
       "4      4       1.0     120.0   -37.8072    144.9941\n",
       "6      3       2.0     245.0   -37.8024    144.9993\n",
       "7      2       1.0     256.0   -37.8060    144.9954"
      ]
     },
     "execution_count": 41,
     "metadata": {},
     "output_type": "execute_result"
    }
   ],
   "source": [
    "X.head()"
   ]
  },
  {
   "cell_type": "markdown",
   "id": "e49c5ded",
   "metadata": {},
   "source": [
    "## Using scikit-learn\n",
    "\n",
    "Build a model through the following steps:\n",
    "\n",
    "- **Define:** Type of model\n",
    "- **Fit:** Capture patterns from provided data\n",
    "- **Predict**\n",
    "- **Evaluate:** Determine how accurate the model's predictions are"
   ]
  },
  {
   "cell_type": "code",
   "execution_count": 42,
   "id": "b3373ba7",
   "metadata": {},
   "outputs": [],
   "source": [
    "from sklearn.tree import DecisionTreeRegressor"
   ]
  },
  {
   "cell_type": "code",
   "execution_count": 43,
   "id": "e47b4ea5",
   "metadata": {},
   "outputs": [],
   "source": [
    "# Define Model\n",
    "melbourne_model = DecisionTreeRegressor(random_state=1)"
   ]
  },
  {
   "cell_type": "code",
   "execution_count": 44,
   "id": "8b1c995d",
   "metadata": {},
   "outputs": [
    {
     "data": {
      "text/plain": [
       "DecisionTreeRegressor(random_state=1)"
      ]
     },
     "execution_count": 44,
     "metadata": {},
     "output_type": "execute_result"
    }
   ],
   "source": [
    "# Fit Model\n",
    "melbourne_model.fit(X, y)"
   ]
  },
  {
   "cell_type": "code",
   "execution_count": 45,
   "id": "92744284",
   "metadata": {},
   "outputs": [
    {
     "data": {
      "text/plain": [
       "array([1035000., 1465000., 1600000., 1876000., 1636000.])"
      ]
     },
     "execution_count": 45,
     "metadata": {},
     "output_type": "execute_result"
    }
   ],
   "source": [
    "# Make Predictions\n",
    "melbourne_model.predict(X.head())"
   ]
  },
  {
   "cell_type": "markdown",
   "id": "ea3b5c48-0050-4ba4-9a81-7bb7006cf5b8",
   "metadata": {},
   "source": [
    "## Model Validation and MAE\n",
    "\n",
    "**MAE** = (Mean Absolute Error)"
   ]
  },
  {
   "cell_type": "code",
   "execution_count": 46,
   "id": "df6aad94-e61d-4c99-85bb-1c9fd2473153",
   "metadata": {},
   "outputs": [],
   "source": [
    "from sklearn.metrics import mean_absolute_error\n",
    "from sklearn.model_selection import train_test_split"
   ]
  },
  {
   "cell_type": "markdown",
   "id": "ae98691a-68e7-43b6-a220-8110f103959c",
   "metadata": {},
   "source": [
    "Split data into training and validation data, for both features and target\n",
    "The split is based on a random number generator. Supplying a numeric value to\n",
    "the random_state argument guarantees we get the same split every time we\n",
    "run this script."
   ]
  },
  {
   "cell_type": "code",
   "execution_count": 47,
   "id": "63f2847a-d364-4bd3-a128-39aeb960afd6",
   "metadata": {},
   "outputs": [],
   "source": [
    "train_X, val_X, train_y, val_y = train_test_split(X, y, random_state = 0)"
   ]
  },
  {
   "cell_type": "code",
   "execution_count": 48,
   "id": "e10c2ef1-1f3a-4805-a3bd-8f30453d5398",
   "metadata": {},
   "outputs": [
    {
     "data": {
      "text/plain": [
       "DecisionTreeRegressor(random_state=1)"
      ]
     },
     "execution_count": 48,
     "metadata": {},
     "output_type": "execute_result"
    }
   ],
   "source": [
    "# Fit Model with train data\n",
    "melbourne_model.fit(train_X, train_y)"
   ]
  },
  {
   "cell_type": "code",
   "execution_count": 49,
   "id": "84388c52-6d7d-42b1-9b37-876b67a6b619",
   "metadata": {},
   "outputs": [],
   "source": [
    "val_predictions = melbourne_model.predict(val_X)"
   ]
  },
  {
   "cell_type": "code",
   "execution_count": 50,
   "id": "c9b6f505-3aac-4c9c-aed6-73840bb5ca1d",
   "metadata": {},
   "outputs": [
    {
     "data": {
      "text/plain": [
       "273518.01872175594"
      ]
     },
     "execution_count": 50,
     "metadata": {},
     "output_type": "execute_result"
    }
   ],
   "source": [
    "mean_absolute_error(val_y, val_predictions)"
   ]
  },
  {
   "cell_type": "markdown",
   "id": "78822f75-ea1f-449c-a00c-e99b089fa7bc",
   "metadata": {},
   "source": [
    "## Underfitting and Overfitting"
   ]
  },
  {
   "cell_type": "markdown",
   "id": "4d99e7fc-2e5a-492e-8232-57d9008c17d7",
   "metadata": {},
   "source": [
    "Models can suffer from either:\n",
    "\n",
    "- **Overfitting:** capturing spurious patterns that won't recur in the future, leading to less accurate predictions, or\n",
    "- **Underfitting**: failing to capture relevant patterns, again leading to less accurate predictions."
   ]
  },
  {
   "cell_type": "code",
   "execution_count": 53,
   "id": "a46d5b9a-acd1-4797-9ff9-25287cb4dfb9",
   "metadata": {},
   "outputs": [],
   "source": [
    "# Utility function to compare MAE's\n",
    "def get_mae(max_leaf_nodes, train_X, train_y, val_X, val_y):\n",
    "    model = DecisionTreeRegressor(max_leaf_nodes=max_leaf_nodes, random_state=0)\n",
    "    model.fit(train_X, train_y)\n",
    "    preds_val = model.predict(val_X)\n",
    "    mae = mean_absolute_error(val_y, preds_val)\n",
    "    return(mae)"
   ]
  },
  {
   "cell_type": "code",
   "execution_count": 56,
   "id": "a079683d-b7b0-4649-8647-bc3bb44a53a1",
   "metadata": {},
   "outputs": [
    {
     "name": "stdout",
     "output_type": "stream",
     "text": [
      "Max leaf nodes: 5  \t\t Mean Absolute Error:  385696\n",
      "Max leaf nodes: 50  \t\t Mean Absolute Error:  279794\n",
      "Max leaf nodes: 500  \t\t Mean Absolute Error:  261718\n",
      "Max leaf nodes: 5000  \t\t Mean Absolute Error:  271996\n"
     ]
    }
   ],
   "source": [
    "for max_leaf_nodes in [5, 50, 500, 5000]:\n",
    "    my_mae = get_mae(max_leaf_nodes, train_X, train_y, val_X, val_y)\n",
    "    print(\"Max leaf nodes: %d  \\t\\t Mean Absolute Error:  %d\" %(max_leaf_nodes, my_mae))"
   ]
  },
  {
   "cell_type": "markdown",
   "id": "ce4b4c60-8966-4903-89d9-201572d030eb",
   "metadata": {},
   "source": [
    "## Random Forests"
   ]
  },
  {
   "cell_type": "code",
   "execution_count": 68,
   "id": "b6d4696d-5052-474e-9a5b-880e9c79871b",
   "metadata": {},
   "outputs": [],
   "source": [
    "from sklearn.ensemble import RandomForestRegressor"
   ]
  },
  {
   "cell_type": "code",
   "execution_count": 70,
   "id": "d416c77b-835b-41b3-9d58-7f05f5daabc1",
   "metadata": {},
   "outputs": [
    {
     "name": "stdout",
     "output_type": "stream",
     "text": [
      "207190.6873773146\n"
     ]
    }
   ],
   "source": [
    "forest_model = RandomForestRegressor(random_state=1)\n",
    "forest_model.fit(train_X, train_y)\n",
    "melb_preds = forest_model.predict(val_X)\n",
    "print(mean_absolute_error(val_y, melb_preds))"
   ]
  },
  {
   "cell_type": "markdown",
   "id": "67139118-64ab-4b4c-853d-e91f2b4ee37b",
   "metadata": {},
   "source": [
    "# Iowa Home Price Prediction"
   ]
  },
  {
   "cell_type": "code",
   "execution_count": 71,
   "id": "a8290819",
   "metadata": {},
   "outputs": [],
   "source": [
    "# Path of the file to read\n",
    "iowa_file_path = 'Datasets/IowaHousing/train.csv'\n",
    "\n",
    "home_data = pd.read_csv(iowa_file_path)"
   ]
  },
  {
   "cell_type": "code",
   "execution_count": 72,
   "id": "1c1c7bd5",
   "metadata": {},
   "outputs": [
    {
     "data": {
      "text/plain": [
       "Index(['Order', 'PID', 'MS SubClass', 'MS Zoning', 'Lot Frontage', 'Lot Area',\n",
       "       'Street', 'Alley', 'Lot Shape', 'Land Contour', 'Utilities',\n",
       "       'Lot Config', 'Land Slope', 'Neighborhood', 'Condition 1',\n",
       "       'Condition 2', 'Bldg Type', 'House Style', 'Overall Qual',\n",
       "       'Overall Cond', 'Year Built', 'Year Remod/Add', 'Roof Style',\n",
       "       'Roof Matl', 'Exterior 1st', 'Exterior 2nd', 'Mas Vnr Type',\n",
       "       'Mas Vnr Area', 'Exter Qual', 'Exter Cond', 'Foundation', 'Bsmt Qual',\n",
       "       'Bsmt Cond', 'Bsmt Exposure', 'BsmtFin Type 1', 'BsmtFin SF 1',\n",
       "       'BsmtFin Type 2', 'BsmtFin SF 2', 'Bsmt Unf SF', 'Total Bsmt SF',\n",
       "       'Heating', 'Heating QC', 'Central Air', 'Electrical', '1st Flr SF',\n",
       "       '2nd Flr SF', 'Low Qual Fin SF', 'Gr Liv Area', 'Bsmt Full Bath',\n",
       "       'Bsmt Half Bath', 'Full Bath', 'Half Bath', 'Bedroom AbvGr',\n",
       "       'Kitchen AbvGr', 'Kitchen Qual', 'TotRms AbvGrd', 'Functional',\n",
       "       'Fireplaces', 'Fireplace Qu', 'Garage Type', 'Garage Yr Blt',\n",
       "       'Garage Finish', 'Garage Cars', 'Garage Area', 'Garage Qual',\n",
       "       'Garage Cond', 'Paved Drive', 'Wood Deck SF', 'Open Porch SF',\n",
       "       'Enclosed Porch', '3Ssn Porch', 'Screen Porch', 'Pool Area', 'Pool QC',\n",
       "       'Fence', 'Misc Feature', 'Misc Val', 'Mo Sold', 'Yr Sold', 'Sale Type',\n",
       "       'Sale Condition', 'SalePrice'],\n",
       "      dtype='object')"
      ]
     },
     "execution_count": 72,
     "metadata": {},
     "output_type": "execute_result"
    }
   ],
   "source": [
    "home_data.columns"
   ]
  },
  {
   "cell_type": "code",
   "execution_count": 73,
   "id": "8db08f13",
   "metadata": {},
   "outputs": [],
   "source": [
    "# Prediction Target\n",
    "y = home_data.SalePrice"
   ]
  },
  {
   "cell_type": "code",
   "execution_count": 74,
   "id": "49eafd08",
   "metadata": {},
   "outputs": [],
   "source": [
    "# Create the list of features below\n",
    "feature_names = ['Lot Area', 'Year Built', '1st Flr SF', '2nd Flr SF', 'Full Bath', 'Bedroom AbvGr', 'TotRms AbvGrd']\n",
    "\n",
    "# Select data corresponding to features in feature_names\n",
    "X = home_data[feature_names]"
   ]
  },
  {
   "cell_type": "code",
   "execution_count": 75,
   "id": "16bf4852-5c4b-4f88-9eb4-6b21ac2babcc",
   "metadata": {},
   "outputs": [],
   "source": [
    "train_X, val_X, train_y, val_y = train_test_split(X, y, random_state=1)"
   ]
  },
  {
   "cell_type": "code",
   "execution_count": 24,
   "id": "1c0e1cb5",
   "metadata": {},
   "outputs": [
    {
     "data": {
      "text/plain": [
       "DecisionTreeRegressor(random_state=1)"
      ]
     },
     "execution_count": 24,
     "metadata": {},
     "output_type": "execute_result"
    }
   ],
   "source": [
    "# Choose Model\n",
    "iowa_model = DecisionTreeRegressor(random_state=1)\n",
    "\n",
    "# Fit the model\n",
    "iowa_model.fit(train_X, train_y)"
   ]
  },
  {
   "cell_type": "code",
   "execution_count": 27,
   "id": "5be2348e",
   "metadata": {},
   "outputs": [],
   "source": [
    "# Make Predictions\n",
    "val_predictions = iowa_model.predict(val_X)"
   ]
  },
  {
   "cell_type": "code",
   "execution_count": 28,
   "id": "372c5fec-be2b-42d0-97f9-fdc2f3a53558",
   "metadata": {},
   "outputs": [
    {
     "name": "stdout",
     "output_type": "stream",
     "text": [
      "30575.253333333338\n"
     ]
    }
   ],
   "source": [
    "val_mae = mean_absolute_error(val_y, val_predictions)\n",
    "print(val_mae)"
   ]
  },
  {
   "cell_type": "code",
   "execution_count": 29,
   "id": "2084f894",
   "metadata": {},
   "outputs": [
    {
     "data": {
      "text/html": [
       "<div>\n",
       "<style scoped>\n",
       "    .dataframe tbody tr th:only-of-type {\n",
       "        vertical-align: middle;\n",
       "    }\n",
       "\n",
       "    .dataframe tbody tr th {\n",
       "        vertical-align: top;\n",
       "    }\n",
       "\n",
       "    .dataframe thead th {\n",
       "        text-align: right;\n",
       "    }\n",
       "</style>\n",
       "<table border=\"1\" class=\"dataframe\">\n",
       "  <thead>\n",
       "    <tr style=\"text-align: right;\">\n",
       "      <th></th>\n",
       "      <th>Order</th>\n",
       "      <th>PID</th>\n",
       "      <th>MS SubClass</th>\n",
       "      <th>Lot Frontage</th>\n",
       "      <th>Lot Area</th>\n",
       "      <th>Overall Qual</th>\n",
       "      <th>Overall Cond</th>\n",
       "      <th>Year Built</th>\n",
       "      <th>Year Remod/Add</th>\n",
       "      <th>Mas Vnr Area</th>\n",
       "      <th>...</th>\n",
       "      <th>Wood Deck SF</th>\n",
       "      <th>Open Porch SF</th>\n",
       "      <th>Enclosed Porch</th>\n",
       "      <th>3Ssn Porch</th>\n",
       "      <th>Screen Porch</th>\n",
       "      <th>Pool Area</th>\n",
       "      <th>Misc Val</th>\n",
       "      <th>Mo Sold</th>\n",
       "      <th>Yr Sold</th>\n",
       "      <th>SalePrice</th>\n",
       "    </tr>\n",
       "  </thead>\n",
       "  <tbody>\n",
       "    <tr>\n",
       "      <th>count</th>\n",
       "      <td>2197.000000</td>\n",
       "      <td>2.197000e+03</td>\n",
       "      <td>2197.000000</td>\n",
       "      <td>1835.000000</td>\n",
       "      <td>2197.000000</td>\n",
       "      <td>2197.000000</td>\n",
       "      <td>2197.000000</td>\n",
       "      <td>2197.000000</td>\n",
       "      <td>2197.000000</td>\n",
       "      <td>2175.000000</td>\n",
       "      <td>...</td>\n",
       "      <td>2197.000000</td>\n",
       "      <td>2197.000000</td>\n",
       "      <td>2197.000000</td>\n",
       "      <td>2197.000000</td>\n",
       "      <td>2197.000000</td>\n",
       "      <td>2197.000000</td>\n",
       "      <td>2197.000000</td>\n",
       "      <td>2197.000000</td>\n",
       "      <td>2197.000000</td>\n",
       "      <td>2197.000000</td>\n",
       "    </tr>\n",
       "    <tr>\n",
       "      <th>mean</th>\n",
       "      <td>1460.512517</td>\n",
       "      <td>7.127872e+08</td>\n",
       "      <td>57.064178</td>\n",
       "      <td>69.549319</td>\n",
       "      <td>10268.070096</td>\n",
       "      <td>6.116523</td>\n",
       "      <td>5.552572</td>\n",
       "      <td>1972.030951</td>\n",
       "      <td>1984.781065</td>\n",
       "      <td>105.101609</td>\n",
       "      <td>...</td>\n",
       "      <td>92.436959</td>\n",
       "      <td>48.768320</td>\n",
       "      <td>22.393719</td>\n",
       "      <td>2.361402</td>\n",
       "      <td>15.954028</td>\n",
       "      <td>2.789713</td>\n",
       "      <td>57.404188</td>\n",
       "      <td>6.189804</td>\n",
       "      <td>2007.793810</td>\n",
       "      <td>182376.851161</td>\n",
       "    </tr>\n",
       "    <tr>\n",
       "      <th>std</th>\n",
       "      <td>846.537251</td>\n",
       "      <td>1.887751e+08</td>\n",
       "      <td>42.360690</td>\n",
       "      <td>23.188224</td>\n",
       "      <td>7975.740885</td>\n",
       "      <td>1.429613</td>\n",
       "      <td>1.107019</td>\n",
       "      <td>30.450069</td>\n",
       "      <td>20.898245</td>\n",
       "      <td>184.897165</td>\n",
       "      <td>...</td>\n",
       "      <td>121.422842</td>\n",
       "      <td>69.127588</td>\n",
       "      <td>62.063281</td>\n",
       "      <td>22.843004</td>\n",
       "      <td>56.495484</td>\n",
       "      <td>39.991010</td>\n",
       "      <td>639.103790</td>\n",
       "      <td>2.746902</td>\n",
       "      <td>1.314345</td>\n",
       "      <td>81168.157405</td>\n",
       "    </tr>\n",
       "    <tr>\n",
       "      <th>min</th>\n",
       "      <td>1.000000</td>\n",
       "      <td>5.263011e+08</td>\n",
       "      <td>20.000000</td>\n",
       "      <td>21.000000</td>\n",
       "      <td>1300.000000</td>\n",
       "      <td>1.000000</td>\n",
       "      <td>1.000000</td>\n",
       "      <td>1872.000000</td>\n",
       "      <td>1950.000000</td>\n",
       "      <td>0.000000</td>\n",
       "      <td>...</td>\n",
       "      <td>0.000000</td>\n",
       "      <td>0.000000</td>\n",
       "      <td>0.000000</td>\n",
       "      <td>0.000000</td>\n",
       "      <td>0.000000</td>\n",
       "      <td>0.000000</td>\n",
       "      <td>0.000000</td>\n",
       "      <td>1.000000</td>\n",
       "      <td>2006.000000</td>\n",
       "      <td>13100.000000</td>\n",
       "    </tr>\n",
       "    <tr>\n",
       "      <th>25%</th>\n",
       "      <td>733.000000</td>\n",
       "      <td>5.284410e+08</td>\n",
       "      <td>20.000000</td>\n",
       "      <td>58.500000</td>\n",
       "      <td>7500.000000</td>\n",
       "      <td>5.000000</td>\n",
       "      <td>5.000000</td>\n",
       "      <td>1954.000000</td>\n",
       "      <td>1966.000000</td>\n",
       "      <td>0.000000</td>\n",
       "      <td>...</td>\n",
       "      <td>0.000000</td>\n",
       "      <td>0.000000</td>\n",
       "      <td>0.000000</td>\n",
       "      <td>0.000000</td>\n",
       "      <td>0.000000</td>\n",
       "      <td>0.000000</td>\n",
       "      <td>0.000000</td>\n",
       "      <td>4.000000</td>\n",
       "      <td>2007.000000</td>\n",
       "      <td>130000.000000</td>\n",
       "    </tr>\n",
       "    <tr>\n",
       "      <th>50%</th>\n",
       "      <td>1452.000000</td>\n",
       "      <td>5.354532e+08</td>\n",
       "      <td>50.000000</td>\n",
       "      <td>69.000000</td>\n",
       "      <td>9488.000000</td>\n",
       "      <td>6.000000</td>\n",
       "      <td>5.000000</td>\n",
       "      <td>1975.000000</td>\n",
       "      <td>1994.000000</td>\n",
       "      <td>0.000000</td>\n",
       "      <td>...</td>\n",
       "      <td>0.000000</td>\n",
       "      <td>28.000000</td>\n",
       "      <td>0.000000</td>\n",
       "      <td>0.000000</td>\n",
       "      <td>0.000000</td>\n",
       "      <td>0.000000</td>\n",
       "      <td>0.000000</td>\n",
       "      <td>6.000000</td>\n",
       "      <td>2008.000000</td>\n",
       "      <td>163500.000000</td>\n",
       "    </tr>\n",
       "    <tr>\n",
       "      <th>75%</th>\n",
       "      <td>2196.000000</td>\n",
       "      <td>9.071811e+08</td>\n",
       "      <td>70.000000</td>\n",
       "      <td>80.000000</td>\n",
       "      <td>11660.000000</td>\n",
       "      <td>7.000000</td>\n",
       "      <td>6.000000</td>\n",
       "      <td>2002.000000</td>\n",
       "      <td>2004.000000</td>\n",
       "      <td>166.000000</td>\n",
       "      <td>...</td>\n",
       "      <td>168.000000</td>\n",
       "      <td>72.000000</td>\n",
       "      <td>0.000000</td>\n",
       "      <td>0.000000</td>\n",
       "      <td>0.000000</td>\n",
       "      <td>0.000000</td>\n",
       "      <td>0.000000</td>\n",
       "      <td>8.000000</td>\n",
       "      <td>2009.000000</td>\n",
       "      <td>215000.000000</td>\n",
       "    </tr>\n",
       "    <tr>\n",
       "      <th>max</th>\n",
       "      <td>2929.000000</td>\n",
       "      <td>1.007100e+09</td>\n",
       "      <td>190.000000</td>\n",
       "      <td>313.000000</td>\n",
       "      <td>215245.000000</td>\n",
       "      <td>10.000000</td>\n",
       "      <td>9.000000</td>\n",
       "      <td>2010.000000</td>\n",
       "      <td>2010.000000</td>\n",
       "      <td>1600.000000</td>\n",
       "      <td>...</td>\n",
       "      <td>870.000000</td>\n",
       "      <td>742.000000</td>\n",
       "      <td>584.000000</td>\n",
       "      <td>360.000000</td>\n",
       "      <td>576.000000</td>\n",
       "      <td>800.000000</td>\n",
       "      <td>17000.000000</td>\n",
       "      <td>12.000000</td>\n",
       "      <td>2010.000000</td>\n",
       "      <td>755000.000000</td>\n",
       "    </tr>\n",
       "  </tbody>\n",
       "</table>\n",
       "<p>8 rows × 39 columns</p>\n",
       "</div>"
      ],
      "text/plain": [
       "             Order           PID  MS SubClass  Lot Frontage       Lot Area  \\\n",
       "count  2197.000000  2.197000e+03  2197.000000   1835.000000    2197.000000   \n",
       "mean   1460.512517  7.127872e+08    57.064178     69.549319   10268.070096   \n",
       "std     846.537251  1.887751e+08    42.360690     23.188224    7975.740885   \n",
       "min       1.000000  5.263011e+08    20.000000     21.000000    1300.000000   \n",
       "25%     733.000000  5.284410e+08    20.000000     58.500000    7500.000000   \n",
       "50%    1452.000000  5.354532e+08    50.000000     69.000000    9488.000000   \n",
       "75%    2196.000000  9.071811e+08    70.000000     80.000000   11660.000000   \n",
       "max    2929.000000  1.007100e+09   190.000000    313.000000  215245.000000   \n",
       "\n",
       "       Overall Qual  Overall Cond   Year Built  Year Remod/Add  Mas Vnr Area  \\\n",
       "count   2197.000000   2197.000000  2197.000000     2197.000000   2175.000000   \n",
       "mean       6.116523      5.552572  1972.030951     1984.781065    105.101609   \n",
       "std        1.429613      1.107019    30.450069       20.898245    184.897165   \n",
       "min        1.000000      1.000000  1872.000000     1950.000000      0.000000   \n",
       "25%        5.000000      5.000000  1954.000000     1966.000000      0.000000   \n",
       "50%        6.000000      5.000000  1975.000000     1994.000000      0.000000   \n",
       "75%        7.000000      6.000000  2002.000000     2004.000000    166.000000   \n",
       "max       10.000000      9.000000  2010.000000     2010.000000   1600.000000   \n",
       "\n",
       "       ...  Wood Deck SF  Open Porch SF  Enclosed Porch   3Ssn Porch  \\\n",
       "count  ...   2197.000000    2197.000000     2197.000000  2197.000000   \n",
       "mean   ...     92.436959      48.768320       22.393719     2.361402   \n",
       "std    ...    121.422842      69.127588       62.063281    22.843004   \n",
       "min    ...      0.000000       0.000000        0.000000     0.000000   \n",
       "25%    ...      0.000000       0.000000        0.000000     0.000000   \n",
       "50%    ...      0.000000      28.000000        0.000000     0.000000   \n",
       "75%    ...    168.000000      72.000000        0.000000     0.000000   \n",
       "max    ...    870.000000     742.000000      584.000000   360.000000   \n",
       "\n",
       "       Screen Porch    Pool Area      Misc Val      Mo Sold      Yr Sold  \\\n",
       "count   2197.000000  2197.000000   2197.000000  2197.000000  2197.000000   \n",
       "mean      15.954028     2.789713     57.404188     6.189804  2007.793810   \n",
       "std       56.495484    39.991010    639.103790     2.746902     1.314345   \n",
       "min        0.000000     0.000000      0.000000     1.000000  2006.000000   \n",
       "25%        0.000000     0.000000      0.000000     4.000000  2007.000000   \n",
       "50%        0.000000     0.000000      0.000000     6.000000  2008.000000   \n",
       "75%        0.000000     0.000000      0.000000     8.000000  2009.000000   \n",
       "max      576.000000   800.000000  17000.000000    12.000000  2010.000000   \n",
       "\n",
       "           SalePrice  \n",
       "count    2197.000000  \n",
       "mean   182376.851161  \n",
       "std     81168.157405  \n",
       "min     13100.000000  \n",
       "25%    130000.000000  \n",
       "50%    163500.000000  \n",
       "75%    215000.000000  \n",
       "max    755000.000000  \n",
       "\n",
       "[8 rows x 39 columns]"
      ]
     },
     "execution_count": 29,
     "metadata": {},
     "output_type": "execute_result"
    }
   ],
   "source": [
    "home_data.describe()"
   ]
  },
  {
   "cell_type": "code",
   "execution_count": 34,
   "id": "2ef50669",
   "metadata": {},
   "outputs": [
    {
     "data": {
      "text/plain": [
       "16.76487621030182"
      ]
     },
     "execution_count": 34,
     "metadata": {},
     "output_type": "execute_result"
    }
   ],
   "source": [
    "val_mae/home_data.describe()['SalePrice'].loc['mean']*100"
   ]
  },
  {
   "cell_type": "markdown",
   "id": "84c55ad6-a52c-4a20-9b59-2d9bc496fd7f",
   "metadata": {},
   "source": [
    "## Choose the best no. of leaf nodes for the Decision tree\n",
    "\n",
    "Run the decision tree with the full dataset"
   ]
  },
  {
   "cell_type": "code",
   "execution_count": 79,
   "id": "adcc83d4-2a99-4ffc-8db3-09e90e780562",
   "metadata": {},
   "outputs": [],
   "source": [
    "candidate_max_leaf_nodes = []\n",
    "# Choosing the perfect number of leaf nodes\n",
    "mae_list = np.array([])\n",
    "for max_leaf_nodes in range(5, 500, 1):\n",
    "    candidate_max_leaf_nodes.append(max_leaf_nodes)\n",
    "    mae = get_mae(max_leaf_nodes, train_X, train_y, val_X, val_y)\n",
    "    mae_list = np.append(mae_list, mae)\n",
    "\n",
    "# Store the best value of max_leaf_nodes (it will be either 5, 25, 50, 100, 250 or 500)\n",
    "best_tree_size = candidate_max_leaf_nodes[mae_list.argmin()]"
   ]
  },
  {
   "cell_type": "code",
   "execution_count": 96,
   "id": "d6b4bc99-1918-4fd3-aab8-a5a6bd438e96",
   "metadata": {},
   "outputs": [
    {
     "name": "stdout",
     "output_type": "stream",
     "text": [
      "24984.09310161919\n"
     ]
    },
    {
     "data": {
      "image/png": "[encoded data removed]",
      "text/plain": [
       "<Figure size 432x288 with 1 Axes>"
      ]
     },
     "metadata": {
      "needs_background": "light"
     },
     "output_type": "display_data"
    }
   ],
   "source": [
    "import matplotlib.pyplot as plt\n",
    "plt.plot(candidate_max_leaf_nodes, mae_list)\n",
    "print(mae_list[mae_list.argmin()])"
   ]
  },
  {
   "cell_type": "code",
   "execution_count": 92,
   "id": "747f092a-432b-418c-9812-b148a3bbbb42",
   "metadata": {},
   "outputs": [
    {
     "data": {
      "text/plain": [
       "DecisionTreeRegressor(max_leaf_nodes=68, random_state=0)"
      ]
     },
     "execution_count": 92,
     "metadata": {},
     "output_type": "execute_result"
    }
   ],
   "source": [
    "# Fill in argument to make optimal size and uncomment\n",
    "final_tree_model = DecisionTreeRegressor(max_leaf_nodes=best_tree_size, random_state=0)\n",
    "\n",
    "# fit the final model and uncomment the next two lines\n",
    "final_tree_model.fit(X, y)"
   ]
  },
  {
   "cell_type": "markdown",
   "id": "7a2df950-4604-496b-8315-e62df437ce43",
   "metadata": {},
   "source": [
    "## Random Forest with full training data"
   ]
  },
  {
   "cell_type": "code",
   "execution_count": 97,
   "id": "bfca1e87-13bb-43e6-bda2-b0ba922f4d93",
   "metadata": {},
   "outputs": [
    {
     "data": {
      "text/plain": [
       "RandomForestRegressor(random_state=1)"
      ]
     },
     "execution_count": 97,
     "metadata": {},
     "output_type": "execute_result"
    }
   ],
   "source": [
    "# Using Random Forests\n",
    "# Define the model. Set random_state to 1\n",
    "rf_model = RandomForestRegressor(random_state=1)\n",
    "\n",
    "# fit your model\n",
    "rf_model.fit(X, y)"
   ]
  },
  {
   "cell_type": "code",
   "execution_count": 106,
   "id": "f8a191ef-c5ad-40c7-bc9b-3c8dc5a8c114",
   "metadata": {},
   "outputs": [],
   "source": [
    "X_test = pd.read_csv('Datasets/IowaHousing/test.csv')\n",
    "X_test = X_test[feature_names]\n",
    "\n",
    "y_test = pd.read_csv('Datasets/IowaHousing/target.csv')"
   ]
  },
  {
   "cell_type": "code",
   "execution_count": 107,
   "id": "d9e9904e-c893-4670-860f-a84cf7418ef8",
   "metadata": {},
   "outputs": [],
   "source": [
    "rf_full_predictions = rf_model.predict(X_test)"
   ]
  },
  {
   "cell_type": "code",
   "execution_count": 111,
   "id": "f152c1cc-90c6-43aa-bb62-c9278030e19e",
   "metadata": {},
   "outputs": [
    {
     "name": "stdout",
     "output_type": "stream",
     "text": [
      "Validation MAE for Random Forest Model: 19984.94470571039\n"
     ]
    }
   ],
   "source": [
    "# Calculate the mean absolute error of your Random Forest model on the test data\n",
    "rf_val_mae = mean_absolute_error(y_test.SalePrice, rf_full_predictions)\n",
    "\n",
    "print(\"Validation MAE for Random Forest Model: {}\".format(rf_val_mae))"
   ]
  }
 ],
 "metadata": {
  "kernelspec": {
   "display_name": "Python 3 (ipykernel)",
   "language": "python",
   "name": "python3"
  },
  "language_info": {
   "codemirror_mode": {
    "name": "ipython",
    "version": 3
   },
   "file_extension": ".py",
   "mimetype": "text/x-python",
   "name": "python",
   "nbconvert_exporter": "python",
   "pygments_lexer": "ipython3",
   "version": "3.8.10"
  }
 },
 "nbformat": 4,
 "nbformat_minor": 5
}
